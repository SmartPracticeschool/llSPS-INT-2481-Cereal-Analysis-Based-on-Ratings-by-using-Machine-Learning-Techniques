{
 "cells": [
  {
   "cell_type": "code",
   "execution_count": 2,
   "metadata": {},
   "outputs": [],
   "source": [
    "import numpy as np \n",
    "import pandas as pd\n",
    "import matplotlib.pyplot as plt\n",
    "import seaborn as sns"
   ]
  },
  {
   "cell_type": "code",
   "execution_count": 4,
   "metadata": {},
   "outputs": [],
   "source": [
    "df=pd.read_csv('cereal.csv')"
   ]
  },
  {
   "cell_type": "code",
   "execution_count": 5,
   "metadata": {},
   "outputs": [
    {
     "data": {
      "text/html": [
       "<div>\n",
       "<style scoped>\n",
       "    .dataframe tbody tr th:only-of-type {\n",
       "        vertical-align: middle;\n",
       "    }\n",
       "\n",
       "    .dataframe tbody tr th {\n",
       "        vertical-align: top;\n",
       "    }\n",
       "\n",
       "    .dataframe thead th {\n",
       "        text-align: right;\n",
       "    }\n",
       "</style>\n",
       "<table border=\"1\" class=\"dataframe\">\n",
       "  <thead>\n",
       "    <tr style=\"text-align: right;\">\n",
       "      <th></th>\n",
       "      <th>name</th>\n",
       "      <th>mfr</th>\n",
       "      <th>type</th>\n",
       "      <th>calories</th>\n",
       "      <th>protein</th>\n",
       "      <th>fat</th>\n",
       "      <th>sodium</th>\n",
       "      <th>fiber</th>\n",
       "      <th>carbo</th>\n",
       "      <th>sugars</th>\n",
       "      <th>potass</th>\n",
       "      <th>vitamins</th>\n",
       "      <th>shelf</th>\n",
       "      <th>weight</th>\n",
       "      <th>cups</th>\n",
       "      <th>rating</th>\n",
       "    </tr>\n",
       "  </thead>\n",
       "  <tbody>\n",
       "    <tr>\n",
       "      <th>0</th>\n",
       "      <td>100% Bran</td>\n",
       "      <td>N</td>\n",
       "      <td>C</td>\n",
       "      <td>70</td>\n",
       "      <td>4</td>\n",
       "      <td>1</td>\n",
       "      <td>130</td>\n",
       "      <td>10.0</td>\n",
       "      <td>5.0</td>\n",
       "      <td>6</td>\n",
       "      <td>280</td>\n",
       "      <td>25</td>\n",
       "      <td>3</td>\n",
       "      <td>1.0</td>\n",
       "      <td>0.33</td>\n",
       "      <td>68.402973</td>\n",
       "    </tr>\n",
       "    <tr>\n",
       "      <th>1</th>\n",
       "      <td>100% Natural Bran</td>\n",
       "      <td>Q</td>\n",
       "      <td>C</td>\n",
       "      <td>120</td>\n",
       "      <td>3</td>\n",
       "      <td>5</td>\n",
       "      <td>15</td>\n",
       "      <td>2.0</td>\n",
       "      <td>8.0</td>\n",
       "      <td>8</td>\n",
       "      <td>135</td>\n",
       "      <td>0</td>\n",
       "      <td>3</td>\n",
       "      <td>1.0</td>\n",
       "      <td>1.00</td>\n",
       "      <td>33.983679</td>\n",
       "    </tr>\n",
       "    <tr>\n",
       "      <th>2</th>\n",
       "      <td>All-Bran</td>\n",
       "      <td>K</td>\n",
       "      <td>C</td>\n",
       "      <td>70</td>\n",
       "      <td>4</td>\n",
       "      <td>1</td>\n",
       "      <td>260</td>\n",
       "      <td>9.0</td>\n",
       "      <td>7.0</td>\n",
       "      <td>5</td>\n",
       "      <td>320</td>\n",
       "      <td>25</td>\n",
       "      <td>3</td>\n",
       "      <td>1.0</td>\n",
       "      <td>0.33</td>\n",
       "      <td>59.425505</td>\n",
       "    </tr>\n",
       "    <tr>\n",
       "      <th>3</th>\n",
       "      <td>All-Bran with Extra Fiber</td>\n",
       "      <td>K</td>\n",
       "      <td>C</td>\n",
       "      <td>50</td>\n",
       "      <td>4</td>\n",
       "      <td>0</td>\n",
       "      <td>140</td>\n",
       "      <td>14.0</td>\n",
       "      <td>8.0</td>\n",
       "      <td>0</td>\n",
       "      <td>330</td>\n",
       "      <td>25</td>\n",
       "      <td>3</td>\n",
       "      <td>1.0</td>\n",
       "      <td>0.50</td>\n",
       "      <td>93.704912</td>\n",
       "    </tr>\n",
       "    <tr>\n",
       "      <th>4</th>\n",
       "      <td>Almond Delight</td>\n",
       "      <td>R</td>\n",
       "      <td>C</td>\n",
       "      <td>110</td>\n",
       "      <td>2</td>\n",
       "      <td>2</td>\n",
       "      <td>200</td>\n",
       "      <td>1.0</td>\n",
       "      <td>14.0</td>\n",
       "      <td>8</td>\n",
       "      <td>-1</td>\n",
       "      <td>25</td>\n",
       "      <td>3</td>\n",
       "      <td>1.0</td>\n",
       "      <td>0.75</td>\n",
       "      <td>34.384843</td>\n",
       "    </tr>\n",
       "  </tbody>\n",
       "</table>\n",
       "</div>"
      ],
      "text/plain": [
       "                        name mfr type  calories  protein  fat  sodium  fiber  \\\n",
       "0                  100% Bran   N    C        70        4    1     130   10.0   \n",
       "1          100% Natural Bran   Q    C       120        3    5      15    2.0   \n",
       "2                   All-Bran   K    C        70        4    1     260    9.0   \n",
       "3  All-Bran with Extra Fiber   K    C        50        4    0     140   14.0   \n",
       "4             Almond Delight   R    C       110        2    2     200    1.0   \n",
       "\n",
       "   carbo  sugars  potass  vitamins  shelf  weight  cups     rating  \n",
       "0    5.0       6     280        25      3     1.0  0.33  68.402973  \n",
       "1    8.0       8     135         0      3     1.0  1.00  33.983679  \n",
       "2    7.0       5     320        25      3     1.0  0.33  59.425505  \n",
       "3    8.0       0     330        25      3     1.0  0.50  93.704912  \n",
       "4   14.0       8      -1        25      3     1.0  0.75  34.384843  "
      ]
     },
     "execution_count": 5,
     "metadata": {},
     "output_type": "execute_result"
    }
   ],
   "source": [
    "df.head()"
   ]
  },
  {
   "cell_type": "code",
   "execution_count": 6,
   "metadata": {},
   "outputs": [
    {
     "name": "stdout",
     "output_type": "stream",
     "text": [
      "<class 'pandas.core.frame.DataFrame'>\n",
      "RangeIndex: 77 entries, 0 to 76\n",
      "Data columns (total 16 columns):\n",
      "name        77 non-null object\n",
      "mfr         77 non-null object\n",
      "type        77 non-null object\n",
      "calories    77 non-null int64\n",
      "protein     77 non-null int64\n",
      "fat         77 non-null int64\n",
      "sodium      77 non-null int64\n",
      "fiber       77 non-null float64\n",
      "carbo       77 non-null float64\n",
      "sugars      77 non-null int64\n",
      "potass      77 non-null int64\n",
      "vitamins    77 non-null int64\n",
      "shelf       77 non-null int64\n",
      "weight      77 non-null float64\n",
      "cups        77 non-null float64\n",
      "rating      77 non-null float64\n",
      "dtypes: float64(5), int64(8), object(3)\n",
      "memory usage: 9.7+ KB\n"
     ]
    }
   ],
   "source": [
    "df.info()"
   ]
  },
  {
   "cell_type": "code",
   "execution_count": 7,
   "metadata": {},
   "outputs": [
    {
     "data": {
      "text/plain": [
       "(77, 16)"
      ]
     },
     "execution_count": 7,
     "metadata": {},
     "output_type": "execute_result"
    }
   ],
   "source": [
    "df.shape"
   ]
  },
  {
   "cell_type": "code",
   "execution_count": 8,
   "metadata": {},
   "outputs": [
    {
     "data": {
      "text/html": [
       "<div>\n",
       "<style scoped>\n",
       "    .dataframe tbody tr th:only-of-type {\n",
       "        vertical-align: middle;\n",
       "    }\n",
       "\n",
       "    .dataframe tbody tr th {\n",
       "        vertical-align: top;\n",
       "    }\n",
       "\n",
       "    .dataframe thead th {\n",
       "        text-align: right;\n",
       "    }\n",
       "</style>\n",
       "<table border=\"1\" class=\"dataframe\">\n",
       "  <thead>\n",
       "    <tr style=\"text-align: right;\">\n",
       "      <th></th>\n",
       "      <th>name</th>\n",
       "      <th>mfr</th>\n",
       "      <th>type</th>\n",
       "      <th>calories</th>\n",
       "      <th>protein</th>\n",
       "      <th>fat</th>\n",
       "      <th>sodium</th>\n",
       "      <th>fiber</th>\n",
       "      <th>carbo</th>\n",
       "      <th>sugars</th>\n",
       "      <th>potass</th>\n",
       "      <th>vitamins</th>\n",
       "      <th>shelf</th>\n",
       "      <th>weight</th>\n",
       "      <th>cups</th>\n",
       "      <th>rating</th>\n",
       "    </tr>\n",
       "  </thead>\n",
       "  <tbody>\n",
       "    <tr>\n",
       "      <th>72</th>\n",
       "      <td>Triples</td>\n",
       "      <td>G</td>\n",
       "      <td>C</td>\n",
       "      <td>110</td>\n",
       "      <td>2</td>\n",
       "      <td>1</td>\n",
       "      <td>250</td>\n",
       "      <td>0.0</td>\n",
       "      <td>21.0</td>\n",
       "      <td>3</td>\n",
       "      <td>60</td>\n",
       "      <td>25</td>\n",
       "      <td>3</td>\n",
       "      <td>1.0</td>\n",
       "      <td>0.75</td>\n",
       "      <td>39.106174</td>\n",
       "    </tr>\n",
       "    <tr>\n",
       "      <th>73</th>\n",
       "      <td>Trix</td>\n",
       "      <td>G</td>\n",
       "      <td>C</td>\n",
       "      <td>110</td>\n",
       "      <td>1</td>\n",
       "      <td>1</td>\n",
       "      <td>140</td>\n",
       "      <td>0.0</td>\n",
       "      <td>13.0</td>\n",
       "      <td>12</td>\n",
       "      <td>25</td>\n",
       "      <td>25</td>\n",
       "      <td>2</td>\n",
       "      <td>1.0</td>\n",
       "      <td>1.00</td>\n",
       "      <td>27.753301</td>\n",
       "    </tr>\n",
       "    <tr>\n",
       "      <th>74</th>\n",
       "      <td>Wheat Chex</td>\n",
       "      <td>R</td>\n",
       "      <td>C</td>\n",
       "      <td>100</td>\n",
       "      <td>3</td>\n",
       "      <td>1</td>\n",
       "      <td>230</td>\n",
       "      <td>3.0</td>\n",
       "      <td>17.0</td>\n",
       "      <td>3</td>\n",
       "      <td>115</td>\n",
       "      <td>25</td>\n",
       "      <td>1</td>\n",
       "      <td>1.0</td>\n",
       "      <td>0.67</td>\n",
       "      <td>49.787445</td>\n",
       "    </tr>\n",
       "    <tr>\n",
       "      <th>75</th>\n",
       "      <td>Wheaties</td>\n",
       "      <td>G</td>\n",
       "      <td>C</td>\n",
       "      <td>100</td>\n",
       "      <td>3</td>\n",
       "      <td>1</td>\n",
       "      <td>200</td>\n",
       "      <td>3.0</td>\n",
       "      <td>17.0</td>\n",
       "      <td>3</td>\n",
       "      <td>110</td>\n",
       "      <td>25</td>\n",
       "      <td>1</td>\n",
       "      <td>1.0</td>\n",
       "      <td>1.00</td>\n",
       "      <td>51.592193</td>\n",
       "    </tr>\n",
       "    <tr>\n",
       "      <th>76</th>\n",
       "      <td>Wheaties Honey Gold</td>\n",
       "      <td>G</td>\n",
       "      <td>C</td>\n",
       "      <td>110</td>\n",
       "      <td>2</td>\n",
       "      <td>1</td>\n",
       "      <td>200</td>\n",
       "      <td>1.0</td>\n",
       "      <td>16.0</td>\n",
       "      <td>8</td>\n",
       "      <td>60</td>\n",
       "      <td>25</td>\n",
       "      <td>1</td>\n",
       "      <td>1.0</td>\n",
       "      <td>0.75</td>\n",
       "      <td>36.187559</td>\n",
       "    </tr>\n",
       "  </tbody>\n",
       "</table>\n",
       "</div>"
      ],
      "text/plain": [
       "                   name mfr type  calories  protein  fat  sodium  fiber  \\\n",
       "72              Triples   G    C       110        2    1     250    0.0   \n",
       "73                 Trix   G    C       110        1    1     140    0.0   \n",
       "74           Wheat Chex   R    C       100        3    1     230    3.0   \n",
       "75             Wheaties   G    C       100        3    1     200    3.0   \n",
       "76  Wheaties Honey Gold   G    C       110        2    1     200    1.0   \n",
       "\n",
       "    carbo  sugars  potass  vitamins  shelf  weight  cups     rating  \n",
       "72   21.0       3      60        25      3     1.0  0.75  39.106174  \n",
       "73   13.0      12      25        25      2     1.0  1.00  27.753301  \n",
       "74   17.0       3     115        25      1     1.0  0.67  49.787445  \n",
       "75   17.0       3     110        25      1     1.0  1.00  51.592193  \n",
       "76   16.0       8      60        25      1     1.0  0.75  36.187559  "
      ]
     },
     "execution_count": 8,
     "metadata": {},
     "output_type": "execute_result"
    }
   ],
   "source": [
    "df.tail()"
   ]
  },
  {
   "cell_type": "code",
   "execution_count": 9,
   "metadata": {},
   "outputs": [
    {
     "data": {
      "text/plain": [
       "name        False\n",
       "mfr         False\n",
       "type        False\n",
       "calories    False\n",
       "protein     False\n",
       "fat         False\n",
       "sodium      False\n",
       "fiber       False\n",
       "carbo       False\n",
       "sugars      False\n",
       "potass      False\n",
       "vitamins    False\n",
       "shelf       False\n",
       "weight      False\n",
       "cups        False\n",
       "rating      False\n",
       "dtype: bool"
      ]
     },
     "execution_count": 9,
     "metadata": {},
     "output_type": "execute_result"
    }
   ],
   "source": [
    "df.isnull().any()"
   ]
  },
  {
   "cell_type": "code",
   "execution_count": 10,
   "metadata": {},
   "outputs": [
    {
     "data": {
      "text/plain": [
       "name        0\n",
       "mfr         0\n",
       "type        0\n",
       "calories    0\n",
       "protein     0\n",
       "fat         0\n",
       "sodium      0\n",
       "fiber       0\n",
       "carbo       0\n",
       "sugars      0\n",
       "potass      0\n",
       "vitamins    0\n",
       "shelf       0\n",
       "weight      0\n",
       "cups        0\n",
       "rating      0\n",
       "dtype: int64"
      ]
     },
     "execution_count": 10,
     "metadata": {},
     "output_type": "execute_result"
    }
   ],
   "source": [
    "df.isnull().sum()\n"
   ]
  },
  {
   "cell_type": "code",
   "execution_count": 11,
   "metadata": {},
   "outputs": [
    {
     "data": {
      "text/plain": [
       "Index(['name', 'mfr', 'type', 'calories', 'protein', 'fat', 'sodium', 'fiber',\n",
       "       'carbo', 'sugars', 'potass', 'vitamins', 'shelf', 'weight', 'cups',\n",
       "       'rating'],\n",
       "      dtype='object')"
      ]
     },
     "execution_count": 11,
     "metadata": {},
     "output_type": "execute_result"
    }
   ],
   "source": [
    "df.columns"
   ]
  },
  {
   "cell_type": "code",
   "execution_count": 12,
   "metadata": {},
   "outputs": [
    {
     "data": {
      "text/plain": [
       "array(['C', 'H'], dtype=object)"
      ]
     },
     "execution_count": 12,
     "metadata": {},
     "output_type": "execute_result"
    }
   ],
   "source": [
    "df['type'].unique()"
   ]
  },
  {
   "cell_type": "code",
   "execution_count": 13,
   "metadata": {},
   "outputs": [
    {
     "data": {
      "text/plain": [
       "array(['N', 'Q', 'K', 'R', 'G', 'P', 'A'], dtype=object)"
      ]
     },
     "execution_count": 13,
     "metadata": {},
     "output_type": "execute_result"
    }
   ],
   "source": [
    "df['mfr'].unique()\n"
   ]
  },
  {
   "cell_type": "code",
   "execution_count": 14,
   "metadata": {},
   "outputs": [
    {
     "data": {
      "text/plain": [
       "Text(0.5, 1.0, 'Cereals: Fiber & Nutrition Content')"
      ]
     },
     "execution_count": 14,
     "metadata": {},
     "output_type": "execute_result"
    },
    {
     "data": {
      "image/png": "[encoded data removed]",
      "text/plain": [
       "<Figure size 1440x288 with 4 Axes>"
      ]
     },
     "metadata": {
      "needs_background": "light"
     },
     "output_type": "display_data"
    }
   ],
   "source": [
    "plt.figure(figsize=(20, 4))\n",
    "\n",
    "#Sugar info\n",
    "plt.subplot(1, 5, 1)\n",
    "plt.scatter(df[\"calories\"],df[\"sugars\"], color=\"c\")\n",
    "plt.xlabel(\"Calories (per serving)\")\n",
    "plt.ylabel('Sugar/gm')\n",
    "plt.title('Cereals: Sugar & Nutrition Content')\n",
    "\n",
    "#Carb info\n",
    "plt.subplot(1, 5, 2)\n",
    "plt.scatter(df[\"calories\"],df[\"carbo\"], color=\"m\")\n",
    "plt.xlabel(\"Calories (per serving)\")\n",
    "plt.ylabel('Carbohydrates/gm')\n",
    "plt.title('Cereals: Carb & Nutrition Content')\n",
    "\n",
    "#Fat info\n",
    "plt.subplot(1, 5, 3)\n",
    "plt.scatter(df[\"calories\"],df[\"fat\"], color=\"orange\")\n",
    "plt.xlabel(\"Calories (per serving)\")\n",
    "plt.ylabel('Fat/gm')\n",
    "plt.title('Cereals: Fat & Nutrition Content')\n",
    "\n",
    "#Fiber info\n",
    "plt.subplot(1, 5, 4)\n",
    "plt.scatter(df[\"calories\"],df[\"fiber\"], color=\"g\")\n",
    "plt.xlabel(\"Calories (per serving)\")\n",
    "plt.ylabel('Fiber/gm')\n",
    "plt.title('Cereals: Fiber & Nutrition Content')"
   ]
  },
  {
   "cell_type": "code",
   "execution_count": 15,
   "metadata": {},
   "outputs": [
    {
     "data": {
      "image/png": "[encoded data removed]",
      "text/plain": [
       "<Figure size 432x288 with 1 Axes>"
      ]
     },
     "metadata": {
      "needs_background": "light"
     },
     "output_type": "display_data"
    }
   ],
   "source": [
    "plt.scatter(df[\"mfr\"],df[\"shelf\"], marker=\"s\", s=200, c=\"orangered\")\n",
    "plt.xlabel(\"Manufacturing\")\n",
    "plt.ylabel('Shelf Locations')\n",
    "plt.xticks(['N','Q','K','R','G','P','A'], ['Nabisco','Quaker','Kellog','Ralston Purina','General Mills','Post','American Home Foods'], rotation = 70)\n",
    "plt.title('Shelf Location of Cereal Manufacturers')\n",
    "\n",
    "plt.show()"
   ]
  },
  {
   "cell_type": "code",
   "execution_count": 24,
   "metadata": {},
   "outputs": [],
   "source": [
    "from sklearn.model_selection import train_test_split"
   ]
  },
  {
   "cell_type": "code",
   "execution_count": 25,
   "metadata": {},
   "outputs": [
    {
     "name": "stdout",
     "output_type": "stream",
     "text": [
      "    calories  protein  fat  sodium  fiber  carbo  potass  vitamins\n",
      "0         70        4    1     130   10.0    5.0     280        25\n",
      "1        120        3    5      15    2.0    8.0     135         0\n",
      "2         70        4    1     260    9.0    7.0     320        25\n",
      "3         50        4    0     140   14.0    8.0     330        25\n",
      "4        110        2    2     200    1.0   14.0      -1        25\n",
      "5        110        2    2     180    1.5   10.5      70        25\n",
      "6        110        2    0     125    1.0   11.0      30        25\n",
      "7        130        3    2     210    2.0   18.0     100        25\n",
      "8         90        2    1     200    4.0   15.0     125        25\n",
      "9         90        3    0     210    5.0   13.0     190        25\n",
      "10       120        1    2     220    0.0   12.0      35        25\n",
      "11       110        6    2     290    2.0   17.0     105        25\n",
      "12       120        1    3     210    0.0   13.0      45        25\n",
      "13       110        3    2     140    2.0   13.0     105        25\n",
      "14       110        1    1     180    0.0   12.0      55        25\n",
      "15       110        2    0     280    0.0   22.0      25        25\n",
      "16       100        2    0     290    1.0   21.0      35        25\n",
      "17       110        1    0      90    1.0   13.0      20        25\n",
      "18       110        1    1     180    0.0   12.0      65        25\n",
      "19       110        3    3     140    4.0   10.0     160        25\n",
      "20       100        3    0      80    1.0   21.0      -1         0\n",
      "21       110        2    0     220    1.0   21.0      30        25\n",
      "22       100        2    1     140    2.0   11.0     120        25\n",
      "23       100        2    0     190    1.0   18.0      80        25\n",
      "24       110        2    1     125    1.0   11.0      30        25\n",
      "25       110        1    0     200    1.0   14.0      25        25\n",
      "26       100        3    0       0    3.0   14.0     100        25\n",
      "27       120        3    2     160    5.0   12.0     200        25\n",
      "28       120        3    0     240    5.0   14.0     190        25\n",
      "29       110        1    1     135    0.0   13.0      25        25\n",
      "..       ...      ...  ...     ...    ...    ...     ...       ...\n",
      "47       100        2    1     220    2.0   15.0      90        25\n",
      "48       120        2    1     190    0.0   15.0      40        25\n",
      "49       140        3    2     220    3.0   21.0     130        25\n",
      "50        90        3    0     170    3.0   18.0      90        25\n",
      "51       130        3    2     170    1.5   13.5     120        25\n",
      "52       120        3    1     200    6.0   11.0     260        25\n",
      "53       100        3    0     320    1.0   20.0      45       100\n",
      "54        50        1    0       0    0.0   13.0      15         0\n",
      "55        50        2    0       0    1.0   10.0      50         0\n",
      "56       100        4    1     135    2.0   14.0     110        25\n",
      "57       100        5    2       0    2.7   -1.0     110         0\n",
      "58       120        3    1     210    5.0   14.0     240        25\n",
      "59       100        3    2     140    2.5   10.5     140        25\n",
      "60        90        2    0       0    2.0   15.0     110        25\n",
      "61       110        1    0     240    0.0   23.0      30        25\n",
      "62       110        2    0     290    0.0   22.0      35        25\n",
      "63        80        2    0       0    3.0   16.0      95         0\n",
      "64        90        3    0       0    4.0   19.0     140         0\n",
      "65        90        3    0       0    3.0   20.0     120         0\n",
      "66       110        2    1      70    1.0    9.0      40        25\n",
      "67       110        6    0     230    1.0   16.0      55        25\n",
      "68        90        2    0      15    3.0   15.0      90        25\n",
      "69       110        2    1     200    0.0   21.0      35       100\n",
      "70       140        3    1     190    4.0   15.0     230       100\n",
      "71       100        3    1     200    3.0   16.0     110       100\n",
      "72       110        2    1     250    0.0   21.0      60        25\n",
      "73       110        1    1     140    0.0   13.0      25        25\n",
      "74       100        3    1     230    3.0   17.0     115        25\n",
      "75       100        3    1     200    3.0   17.0     110        25\n",
      "76       110        2    1     200    1.0   16.0      60        25\n",
      "\n",
      "[77 rows x 8 columns]\n",
      "0     68.402973\n",
      "1     33.983679\n",
      "2     59.425505\n",
      "3     93.704912\n",
      "4     34.384843\n",
      "5     29.509541\n",
      "6     33.174094\n",
      "7     37.038562\n",
      "8     49.120253\n",
      "9     53.313813\n",
      "10    18.042851\n",
      "11    50.764999\n",
      "12    19.823573\n",
      "13    40.400208\n",
      "14    22.736446\n",
      "15    41.445019\n",
      "16    45.863324\n",
      "17    35.782791\n",
      "18    22.396513\n",
      "19    40.448772\n",
      "20    64.533816\n",
      "21    46.895644\n",
      "22    36.176196\n",
      "23    44.330856\n",
      "24    32.207582\n",
      "25    31.435973\n",
      "26    58.345141\n",
      "27    40.917047\n",
      "28    41.015492\n",
      "29    28.025765\n",
      "        ...    \n",
      "47    40.105965\n",
      "48    29.924285\n",
      "49    40.692320\n",
      "50    59.642837\n",
      "51    30.450843\n",
      "52    37.840594\n",
      "53    41.503540\n",
      "54    60.756112\n",
      "55    63.005645\n",
      "56    49.511874\n",
      "57    50.828392\n",
      "58    39.259197\n",
      "59    39.703400\n",
      "60    55.333142\n",
      "61    41.998933\n",
      "62    40.560159\n",
      "63    68.235885\n",
      "64    74.472949\n",
      "65    72.801787\n",
      "66    31.230054\n",
      "67    53.131324\n",
      "68    59.363993\n",
      "69    38.839746\n",
      "70    28.592785\n",
      "71    46.658844\n",
      "72    39.106174\n",
      "73    27.753301\n",
      "74    49.787445\n",
      "75    51.592193\n",
      "76    36.187559\n",
      "Name: rating, Length: 77, dtype: float64\n"
     ]
    }
   ],
   "source": [
    "X = df[['calories', 'protein', 'fat', 'sodium', 'fiber','carbo',  'potass', 'vitamins']]\n",
    "print(X)\n",
    "\n",
    "y= df.iloc[:,15]\n",
    "print(y)"
   ]
  },
  {
   "cell_type": "code",
   "execution_count": 26,
   "metadata": {},
   "outputs": [],
   "source": [
    "X_train, X_test, y_train, y_test = train_test_split(X, y, test_size = 0.3)"
   ]
  },
  {
   "cell_type": "code",
   "execution_count": null,
   "metadata": {},
   "outputs": [],
   "source": []
  }
 ],
 "metadata": {
  "kernelspec": {
   "display_name": "Python 3",
   "language": "python",
   "name": "python3"
  },
  "language_info": {
   "codemirror_mode": {
    "name": "ipython",
    "version": 3
   },
   "file_extension": ".py",
   "mimetype": "text/x-python",
   "name": "python",
   "nbconvert_exporter": "python",
   "pygments_lexer": "ipython3",
   "version": "3.7.3"
  }
 },
 "nbformat": 4,
 "nbformat_minor": 2
}
